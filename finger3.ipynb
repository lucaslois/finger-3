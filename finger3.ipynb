{
 "cells": [
  {
   "cell_type": "code",
   "execution_count": 16,
   "metadata": {},
   "outputs": [],
   "source": [
    "import pyspark\n",
    "from pyspark.sql import SparkSession\n",
    "\n",
    "sc = pyspark.SparkContext.getOrCreate()\n",
    "\n",
    "spark = SparkSession.builder.appName('finger3').getOrCreate()\n",
    "\n",
    "flights = spark.read.csv('data/flights.csv', header = True)\n",
    "airports = spark.read.csv('data/airports.csv', header = True)\n",
    "airlines = spark.read.csv('data/airlines.csv', header = True)\n",
    "\n",
    "flights.createOrReplaceTempView('flights')\n",
    "airports.createOrReplaceTempView('airports')\n",
    "airlines.createOrReplaceTempView('airlines')"
   ]
  },
  {
   "cell_type": "markdown",
   "metadata": {},
   "source": [
    "## Exploro un poco los sets de datos"
   ]
  },
  {
   "cell_type": "code",
   "execution_count": 11,
   "metadata": {},
   "outputs": [
    {
     "name": "stdout",
     "output_type": "stream",
     "text": [
      "root\n",
      " |-- YEAR: string (nullable = true)\n",
      " |-- MONTH: string (nullable = true)\n",
      " |-- DAY: string (nullable = true)\n",
      " |-- DAY_OF_WEEK: string (nullable = true)\n",
      " |-- AIRLINE: string (nullable = true)\n",
      " |-- FLIGHT_NUMBER: string (nullable = true)\n",
      " |-- TAIL_NUMBER: string (nullable = true)\n",
      " |-- ORIGIN_AIRPORT: string (nullable = true)\n",
      " |-- DESTINATION_AIRPORT: string (nullable = true)\n",
      " |-- SCHEDULED_DEPARTURE: string (nullable = true)\n",
      " |-- DEPARTURE_TIME: string (nullable = true)\n",
      " |-- DEPARTURE_DELAY: string (nullable = true)\n",
      " |-- TAXI_OUT: string (nullable = true)\n",
      " |-- WHEELS_OFF: string (nullable = true)\n",
      " |-- SCHEDULED_TIME: string (nullable = true)\n",
      " |-- ELAPSED_TIME: string (nullable = true)\n",
      " |-- AIR_TIME: string (nullable = true)\n",
      " |-- DISTANCE: string (nullable = true)\n",
      " |-- WHEELS_ON: string (nullable = true)\n",
      " |-- TAXI_IN: string (nullable = true)\n",
      " |-- SCHEDULED_ARRIVAL: string (nullable = true)\n",
      " |-- ARRIVAL_TIME: string (nullable = true)\n",
      " |-- ARRIVAL_DELAY: string (nullable = true)\n",
      " |-- DIVERTED: string (nullable = true)\n",
      " |-- CANCELLED: string (nullable = true)\n",
      " |-- CANCELLATION_REASON: string (nullable = true)\n",
      " |-- AIR_SYSTEM_DELAY: string (nullable = true)\n",
      " |-- SECURITY_DELAY: string (nullable = true)\n",
      " |-- AIRLINE_DELAY: string (nullable = true)\n",
      " |-- LATE_AIRCRAFT_DELAY: string (nullable = true)\n",
      " |-- WEATHER_DELAY: string (nullable = true)\n",
      "\n"
     ]
    }
   ],
   "source": [
    "flights.printSchema()"
   ]
  },
  {
   "cell_type": "code",
   "execution_count": 12,
   "metadata": {},
   "outputs": [
    {
     "name": "stdout",
     "output_type": "stream",
     "text": [
      "root\n",
      " |-- IATA_CODE: string (nullable = true)\n",
      " |-- AIRLINE: string (nullable = true)\n",
      "\n"
     ]
    }
   ],
   "source": [
    "airlines.printSchema()"
   ]
  },
  {
   "cell_type": "code",
   "execution_count": 13,
   "metadata": {},
   "outputs": [
    {
     "name": "stdout",
     "output_type": "stream",
     "text": [
      "root\n",
      " |-- IATA_CODE: string (nullable = true)\n",
      " |-- AIRPORT: string (nullable = true)\n",
      " |-- CITY: string (nullable = true)\n",
      " |-- STATE: string (nullable = true)\n",
      " |-- COUNTRY: string (nullable = true)\n",
      " |-- LATITUDE: string (nullable = true)\n",
      " |-- LONGITUDE: string (nullable = true)\n",
      "\n"
     ]
    }
   ],
   "source": [
    "airports.printSchema()"
   ]
  },
  {
   "cell_type": "markdown",
   "metadata": {},
   "source": [
    "# Punto 1. Quiero entender cómo presenta los datos el campo 'CANCELLED'"
   ]
  },
  {
   "cell_type": "code",
   "execution_count": 66,
   "metadata": {},
   "outputs": [
    {
     "name": "stdout",
     "output_type": "stream",
     "text": [
      "+---------+----------------+\n",
      "|CANCELLED|count(CANCELLED)|\n",
      "+---------+----------------+\n",
      "|        0|         5729195|\n",
      "|        1|           89884|\n",
      "+---------+----------------+\n",
      "\n"
     ]
    }
   ],
   "source": [
    "spark.sql('SELECT CANCELLED, COUNT(CANCELLED) FROM flights GROUP BY (CANCELLED)').show()"
   ]
  },
  {
   "cell_type": "markdown",
   "metadata": {},
   "source": [
    "### Los aeropuertos de origen con mayor cantidad de cancelaciones son:"
   ]
  },
  {
   "cell_type": "code",
   "execution_count": 39,
   "metadata": {},
   "outputs": [
    {
     "name": "stdout",
     "output_type": "stream",
     "text": [
      "+--------------------+--------+\n",
      "|             AIRPORT|CANTIDAD|\n",
      "+--------------------+--------+\n",
      "|Chicago O'Hare In...|    8548|\n",
      "|Dallas/Fort Worth...|    6254|\n",
      "|LaGuardia Airport...|    4531|\n",
      "|Newark Liberty In...|    3110|\n",
      "|Gen. Edward Lawre...|    2654|\n",
      "+--------------------+--------+\n",
      "\n"
     ]
    }
   ],
   "source": [
    "spark.sql('SELECT airports.AIRPORT, COUNT(airports.AIRPORT) as CANTIDAD FROM airports \\\n",
    "          INNER JOIN flights \\\n",
    "          ON airports.IATA_CODE = flights.ORIGIN_AIRPORT \\\n",
    "          WHERE flights.CANCELLED = 1 \\\n",
    "          GROUP BY airports.AIRPORT \\\n",
    "          ORDER BY CANTIDAD DESC \\\n",
    "          LIMIT 5').show()"
   ]
  },
  {
   "cell_type": "markdown",
   "metadata": {},
   "source": [
    "# Punto 2. Vuelos desde Atlanta a Los Angeles"
   ]
  },
  {
   "cell_type": "code",
   "execution_count": 42,
   "metadata": {},
   "outputs": [
    {
     "name": "stdout",
     "output_type": "stream",
     "text": [
      "+--------------+\n",
      "|ORIGIN_AIRPORT|\n",
      "+--------------+\n",
      "|           BGM|\n",
      "|           PSE|\n",
      "|           INL|\n",
      "|           DLG|\n",
      "|         12888|\n",
      "|           MSY|\n",
      "|           PPG|\n",
      "|         12003|\n",
      "|         15041|\n",
      "|           GEG|\n",
      "|           SNA|\n",
      "|           BUR|\n",
      "|           GRB|\n",
      "|           GTF|\n",
      "|         14986|\n",
      "|         13851|\n",
      "|           IDA|\n",
      "|         11150|\n",
      "|         15412|\n",
      "|           GRR|\n",
      "+--------------+\n",
      "only showing top 20 rows\n",
      "\n"
     ]
    }
   ],
   "source": [
    "spark.sql('SELECT ORIGIN_AIRPORT FROM flights GROUP BY (ORIGIN_AIRPORT)').show()"
   ]
  },
  {
   "cell_type": "markdown",
   "metadata": {},
   "source": [
    "### Averiguo qué formato posee la referencia de la Aerolínea en el vuelo:"
   ]
  },
  {
   "cell_type": "code",
   "execution_count": 57,
   "metadata": {},
   "outputs": [
    {
     "name": "stdout",
     "output_type": "stream",
     "text": [
      "+-------+\n",
      "|AIRLINE|\n",
      "+-------+\n",
      "|     AS|\n",
      "|     AA|\n",
      "|     US|\n",
      "|     AA|\n",
      "|     AS|\n",
      "|     DL|\n",
      "|     NK|\n",
      "|     US|\n",
      "|     AA|\n",
      "|     DL|\n",
      "+-------+\n",
      "\n"
     ]
    }
   ],
   "source": [
    "spark.sql('SELECT flights.AIRLINE FROM flights LIMIT 10').show()"
   ]
  },
  {
   "cell_type": "code",
   "execution_count": 59,
   "metadata": {},
   "outputs": [
    {
     "name": "stdout",
     "output_type": "stream",
     "text": [
      "+---------+\n",
      "|IATA_CODE|\n",
      "+---------+\n",
      "|       UA|\n",
      "|       AA|\n",
      "|       US|\n",
      "|       F9|\n",
      "|       B6|\n",
      "|       OO|\n",
      "|       AS|\n",
      "|       NK|\n",
      "|       WN|\n",
      "|       DL|\n",
      "+---------+\n",
      "\n"
     ]
    }
   ],
   "source": [
    "spark.sql('SELECT airlines.IATA_CODE FROM airlines LIMIT 10').show()"
   ]
  },
  {
   "cell_type": "markdown",
   "metadata": {},
   "source": [
    "**La referencia en la tabla flights de la Aerolinea está en formato IATA_CODE**\n",
    "\n",
    "Las aerolineas que realizaron vuelos de ATL a LAX en orden descendiente son las siguientes"
   ]
  },
  {
   "cell_type": "code",
   "execution_count": 65,
   "metadata": {},
   "outputs": [
    {
     "name": "stdout",
     "output_type": "stream",
     "text": [
      "+--------------------+--------+\n",
      "|             AIRLINE|CANTIDAD|\n",
      "+--------------------+--------+\n",
      "|Delta Air Lines Inc.|    3624|\n",
      "|Southwest Airline...|     962|\n",
      "|American Airlines...|     765|\n",
      "|Frontier Airlines...|     215|\n",
      "|    Spirit Air Lines|     103|\n",
      "+--------------------+--------+\n",
      "\n"
     ]
    }
   ],
   "source": [
    "spark.sql('SELECT airlines.AIRLINE, COUNT(airlines.AIRLINE) as CANTIDAD FROM airlines \\\n",
    "            JOIN flights \\\n",
    "            ON airlines.IATA_CODE = flights.AIRLINE \\\n",
    "            WHERE flights.ORIGIN_AIRPORT = \"ATL\" \\\n",
    "            AND flights.DESTINATION_AIRPORT = \"LAX\" \\\n",
    "            GROUP BY airlines.AIRLINE \\\n",
    "            ORDER BY CANTIDAD DESC').show()"
   ]
  },
  {
   "cell_type": "markdown",
   "metadata": {},
   "source": [
    "# Punto 3. Optimizaciones"
   ]
  },
  {
   "cell_type": "code",
   "execution_count": 64,
   "metadata": {},
   "outputs": [
    {
     "name": "stdout",
     "output_type": "stream",
     "text": [
      "== Parsed Logical Plan ==\n",
      "'Sort ['CANTIDAD DESC NULLS LAST], true\n",
      "+- 'Aggregate ['airlines.AIRLINE], ['airlines.AIRLINE, 'COUNT('airlines.AIRLINE) AS CANTIDAD#784]\n",
      "   +- 'Filter (('flights.ORIGIN_AIRPORT = ATL) && ('flights.DESTINATION_AIRPORT = LAX))\n",
      "      +- 'Join Inner, ('airlines.IATA_CODE = 'flights.AIRLINE)\n",
      "         :- 'UnresolvedRelation `airlines`\n",
      "         +- 'UnresolvedRelation `flights`\n",
      "\n",
      "== Analyzed Logical Plan ==\n",
      "AIRLINE: string, CANTIDAD: bigint\n",
      "Sort [CANTIDAD#784L DESC NULLS LAST], true\n",
      "+- Aggregate [AIRLINE#453], [AIRLINE#453, count(AIRLINE#453) AS CANTIDAD#784L]\n",
      "   +- Filter ((ORIGIN_AIRPORT#363 = ATL) && (DESTINATION_AIRPORT#364 = LAX))\n",
      "      +- Join Inner, (IATA_CODE#452 = AIRLINE#360)\n",
      "         :- SubqueryAlias airlines\n",
      "         :  +- Relation[IATA_CODE#452,AIRLINE#453] csv\n",
      "         +- SubqueryAlias flights\n",
      "            +- Relation[YEAR#356,MONTH#357,DAY#358,DAY_OF_WEEK#359,AIRLINE#360,FLIGHT_NUMBER#361,TAIL_NUMBER#362,ORIGIN_AIRPORT#363,DESTINATION_AIRPORT#364,SCHEDULED_DEPARTURE#365,DEPARTURE_TIME#366,DEPARTURE_DELAY#367,TAXI_OUT#368,WHEELS_OFF#369,SCHEDULED_TIME#370,ELAPSED_TIME#371,AIR_TIME#372,DISTANCE#373,WHEELS_ON#374,TAXI_IN#375,SCHEDULED_ARRIVAL#376,ARRIVAL_TIME#377,ARRIVAL_DELAY#378,DIVERTED#379,... 7 more fields] csv\n",
      "\n",
      "== Optimized Logical Plan ==\n",
      "Sort [CANTIDAD#784L DESC NULLS LAST], true\n",
      "+- Aggregate [AIRLINE#453], [AIRLINE#453, count(AIRLINE#453) AS CANTIDAD#784L]\n",
      "   +- Project [AIRLINE#453]\n",
      "      +- Join Inner, (IATA_CODE#452 = AIRLINE#360)\n",
      "         :- Filter isnotnull(IATA_CODE#452)\n",
      "         :  +- Relation[IATA_CODE#452,AIRLINE#453] csv\n",
      "         +- Project [AIRLINE#360]\n",
      "            +- Filter ((((isnotnull(ORIGIN_AIRPORT#363) && isnotnull(DESTINATION_AIRPORT#364)) && (ORIGIN_AIRPORT#363 = ATL)) && (DESTINATION_AIRPORT#364 = LAX)) && isnotnull(AIRLINE#360))\n",
      "               +- Relation[YEAR#356,MONTH#357,DAY#358,DAY_OF_WEEK#359,AIRLINE#360,FLIGHT_NUMBER#361,TAIL_NUMBER#362,ORIGIN_AIRPORT#363,DESTINATION_AIRPORT#364,SCHEDULED_DEPARTURE#365,DEPARTURE_TIME#366,DEPARTURE_DELAY#367,TAXI_OUT#368,WHEELS_OFF#369,SCHEDULED_TIME#370,ELAPSED_TIME#371,AIR_TIME#372,DISTANCE#373,WHEELS_ON#374,TAXI_IN#375,SCHEDULED_ARRIVAL#376,ARRIVAL_TIME#377,ARRIVAL_DELAY#378,DIVERTED#379,... 7 more fields] csv\n",
      "\n",
      "== Physical Plan ==\n",
      "*(4) Sort [CANTIDAD#784L DESC NULLS LAST], true, 0\n",
      "+- Exchange rangepartitioning(CANTIDAD#784L DESC NULLS LAST, 200)\n",
      "   +- *(3) HashAggregate(keys=[AIRLINE#453], functions=[count(AIRLINE#453)], output=[AIRLINE#453, CANTIDAD#784L])\n",
      "      +- Exchange hashpartitioning(AIRLINE#453, 200)\n",
      "         +- *(2) HashAggregate(keys=[AIRLINE#453], functions=[partial_count(AIRLINE#453)], output=[AIRLINE#453, count#790L])\n",
      "            +- *(2) Project [AIRLINE#453]\n",
      "               +- *(2) BroadcastHashJoin [IATA_CODE#452], [AIRLINE#360], Inner, BuildLeft\n",
      "                  :- BroadcastExchange HashedRelationBroadcastMode(List(input[0, string, true]))\n",
      "                  :  +- *(1) Project [IATA_CODE#452, AIRLINE#453]\n",
      "                  :     +- *(1) Filter isnotnull(IATA_CODE#452)\n",
      "                  :        +- *(1) FileScan csv [IATA_CODE#452,AIRLINE#453] Batched: false, Format: CSV, Location: InMemoryFileIndex[file:/home/lucaslois/Facultad/datos/finger-3/data/airlines.csv], PartitionFilters: [], PushedFilters: [IsNotNull(IATA_CODE)], ReadSchema: struct<IATA_CODE:string,AIRLINE:string>\n",
      "                  +- *(2) Project [AIRLINE#360]\n",
      "                     +- *(2) Filter ((((isnotnull(ORIGIN_AIRPORT#363) && isnotnull(DESTINATION_AIRPORT#364)) && (ORIGIN_AIRPORT#363 = ATL)) && (DESTINATION_AIRPORT#364 = LAX)) && isnotnull(AIRLINE#360))\n",
      "                        +- *(2) FileScan csv [AIRLINE#360,ORIGIN_AIRPORT#363,DESTINATION_AIRPORT#364] Batched: false, Format: CSV, Location: InMemoryFileIndex[file:/home/lucaslois/Facultad/datos/finger-3/data/flights.csv], PartitionFilters: [], PushedFilters: [IsNotNull(ORIGIN_AIRPORT), IsNotNull(DESTINATION_AIRPORT), EqualTo(ORIGIN_AIRPORT,ATL), EqualTo(..., ReadSchema: struct<AIRLINE:string,ORIGIN_AIRPORT:string,DESTINATION_AIRPORT:string>\n"
     ]
    }
   ],
   "source": [
    "# Analizamos la query del punto 2.\n",
    "\n",
    "query = 'SELECT airlines.AIRLINE, COUNT(airlines.AIRLINE) as CANTIDAD FROM airlines \\\n",
    "            JOIN flights \\\n",
    "            ON airlines.IATA_CODE = flights.AIRLINE \\\n",
    "            WHERE flights.ORIGIN_AIRPORT = \"ATL\" \\\n",
    "            AND flights.DESTINATION_AIRPORT = \"LAX\" \\\n",
    "            GROUP BY airlines.AIRLINE \\\n",
    "            ORDER BY CANTIDAD DESC'\n",
    "\n",
    "spark.sql(query).explain(True)"
   ]
  },
  {
   "cell_type": "markdown",
   "metadata": {},
   "source": [
    "**A.** Se produce un Filter pushdown en el *Optimized Logical Plan*, para reducir la cantidad de elementos que van a tener que analizarse en el JOIN.\n",
    "\n",
    "**B.** Se realiza un join de tipo 'inner' en la etapa *Analyzed Logical Plan*"
   ]
  },
  {
   "cell_type": "code",
   "execution_count": null,
   "metadata": {},
   "outputs": [],
   "source": []
  }
 ],
 "metadata": {
  "kernelspec": {
   "display_name": "Python 3",
   "language": "python",
   "name": "python3"
  },
  "language_info": {
   "codemirror_mode": {
    "name": "ipython",
    "version": 3
   },
   "file_extension": ".py",
   "mimetype": "text/x-python",
   "name": "python",
   "nbconvert_exporter": "python",
   "pygments_lexer": "ipython3",
   "version": "3.6.5"
  }
 },
 "nbformat": 4,
 "nbformat_minor": 2
}
